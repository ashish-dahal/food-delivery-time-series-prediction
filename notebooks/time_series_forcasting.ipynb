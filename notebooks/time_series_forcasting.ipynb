{
 "cells": [
  {
   "cell_type": "markdown",
   "metadata": {},
   "source": [
    "# "
   ]
  },
  {
   "cell_type": "markdown",
   "metadata": {},
   "source": [
    "## **1. Preliminary Data Exploration** 📊🔍\n",
    "\n",
    "Getting a feel for the data is an important first step. This is where we can start to understand the data and identify any potential issues. We can also start to think about how we might want to structure our data for modeling. For the assignment, this step will help in choosing a modeling approach 🤔💡."
   ]
  },
  {
   "cell_type": "code",
   "execution_count": null,
   "metadata": {},
   "outputs": [],
   "source": [
    "# Import Libraries\n",
    "\n",
    "import pandas as pd\n",
    "import numpy as np"
   ]
  },
  {
   "cell_type": "code",
   "execution_count": null,
   "metadata": {},
   "outputs": [],
   "source": [
    "# Load Data\n",
    "original_df = pd.read_csv('../data/orders_autumn_2020.csv')\n",
    "\n",
    "# Create a copy of the original dataframe\n",
    "df = original_df.copy()"
   ]
  },
  {
   "cell_type": "code",
   "execution_count": null,
   "metadata": {},
   "outputs": [],
   "source": [
    "# Check columns and data types\n",
    "df.info()"
   ]
  },
  {
   "cell_type": "markdown",
   "metadata": {},
   "source": [
    "**🔍 Observation:** There are 18706 data points in the dataset with 13 features. Also, there seems to be some missing values in the dataset 🚫📉."
   ]
  },
  {
   "cell_type": "code",
   "execution_count": null,
   "metadata": {},
   "outputs": [],
   "source": [
    "# Check missing values\n",
    "df.isna().sum()"
   ]
  },
  {
   "cell_type": "markdown",
   "metadata": {},
   "source": [
    "**🔍 Observation**: Some values for the weather 🌤️ features are missing. We will have to handle these missing values (impute, drop) if we decide to use these features depending on our model (some models handle missing data natively).\n"
   ]
  },
  {
   "cell_type": "code",
   "execution_count": null,
   "metadata": {},
   "outputs": [],
   "source": [
    "# Check for duplicates\n",
    "df.duplicated().sum()"
   ]
  },
  {
   "cell_type": "markdown",
   "metadata": {},
   "source": [
    "**🔍 Observation**: There are no duplicate data points in the dataset."
   ]
  },
  {
   "cell_type": "code",
   "execution_count": null,
   "metadata": {},
   "outputs": [],
   "source": [
    "# Get statistical summary of the dataset\n",
    "df.describe().T"
   ]
  },
  {
   "cell_type": "markdown",
   "metadata": {},
   "source": [
    "**🔍 Observations**: \n",
    "- ⏱️ **Delivery Time Differences**: Average actual delivery times are -1.20 minutes faster than estimated, with high variability (standard deviation: 8.98 minutes).\n",
    "- 🍔 **Item Count**: Average order contains 2.69 items, ranging from 1 to 11 items.\n",
    "- 🌐 **Location Data**: Location data of user and venues suggests dataset covers a concentrated geographic area (small standard deviations).\n",
    "- ⏳ **Estimated vs. Actual Delivery Minutes**: Average estimated delivery time is 33.81 minutes, actual is slightly lower at 32.61 minutes.\n",
    "- ☁️ **Weather Conditions**: It show wide variation in weather conditions, indicating potential impact on delivery times."
   ]
  },
  {
   "cell_type": "code",
   "execution_count": null,
   "metadata": {},
   "outputs": [],
   "source": [
    "#  Check how the dataset looks like\n",
    "df.head(10)"
   ]
  },
  {
   "cell_type": "markdown",
   "metadata": {},
   "source": [
    "## **2. Modeling Approach** 🤖📈\n",
    "\n",
    "After getting a feel of the data, and taking into account what I have learnt about Wolt's business model, the following modeling approach is chosen:\n",
    "\n",
    "### **🔮 \"How much time will it take for the delivery?\"**\n",
    "\n",
    "The estimated delivery time should be in the goldilock zone of neither too conservative (overestimating) nor too optimistic (underestimating). If the estimated time is too conservative, it will deter customers from placing order. If the estimated time is too optimistic, it will lead to late deliveries.\n",
    "\n",
    "However, [studies](https://papers.ssrn.com/sol3/papers.cfm?abstract_id=3469015) show that customers punish late deliveries more than they reward early deliveries. Therefore, it is slightly better to overestimate than underestimate delivery times in comparision. This information will shape our evaluation approach. Thus we have insentive to prevent underestimation of delivery times.\n",
    "For this we have to analyse late deliveries in detail and what factors affect it.\n",
    "\n",
    "> Note: We could verify this information by looking at Wolt's data on customer behavior. However, for the purpose of this assignment, we will assume this information is correct.\n",
    "\n",
    "> ### **Motivations for the modeling approach:**\n",
    "Accurate forecasting of delivery time helps Wolt's business model in the following ways:\n",
    "\n",
    "- 🌟 **Customer Experience**: Enhances satisfaction by reducing uncertainty about order arrival times.\n",
    "- ⚙️ **Operational Efficiency**: Optimizes logistics and allocation of delivery personnel.\n",
    "- 📊 **Demand Forecasting**: Helps manage order influx during peak times, ensuring quality service.\n",
    "- 🏅 **Competitive Advantage**: Differentiates Wolt in the competitive food delivery market."
   ]
  },
  {
   "cell_type": "markdown",
   "metadata": {},
   "source": [
    "## **3. Exploratory Data Analysis**"
   ]
  },
  {
   "cell_type": "code",
   "execution_count": null,
   "metadata": {},
   "outputs": [],
   "source": [
    "# Import libraries\n",
    "\n",
    "from geopy.distance import geodesic\n",
    "import seaborn as sns\n",
    "import matplotlib.pyplot as plt\n",
    "%matplotlib inline"
   ]
  },
  {
   "cell_type": "code",
   "execution_count": null,
   "metadata": {},
   "outputs": [],
   "source": [
    "# Set seaborn style in Wolt brand colors\n",
    "wolt_colors = [\"#004C5C\", \"#FF007A\", \"#56C1E6\"]  # Dark Blue, Pink, Light Blue\n",
    "\n",
    "# Set the theme with a Wolt color palette\n",
    "sns.set_theme(style=\"whitegrid\", palette=sns.color_palette(wolt_colors))\n",
    "\n",
    "# Further customize\n",
    "plt.rcParams[\"axes.spines.top\"] = False\n",
    "plt.rcParams[\"axes.spines.right\"] = False\n",
    "plt.rcParams[\"axes.spines.left\"] = True\n",
    "plt.rcParams[\"axes.spines.bottom\"] = True\n",
    "plt.rcParams[\"grid.color\"] = \"#eeeeee\"\n",
    "plt.rcParams[\"grid.linestyle\"] = \"-\"\n",
    "plt.rcParams[\"grid.linewidth\"] = 0.75\n",
    "plt.rcParams[\"font.family\"] = \"sans-serif\"\n",
    "plt.rcParams[\"font.size\"] = 12\n",
    "plt.rcParams[\"axes.edgecolor\"] = \"#333333\"\n",
    "\n",
    "# set figure size\n",
    "plt.rcParams[\"figure.figsize\"] = (12, 8)"
   ]
  },
  {
   "cell_type": "code",
   "execution_count": null,
   "metadata": {},
   "outputs": [],
   "source": [
    "# Convert the TIMESTAMP column to datetime format\n",
    "df['TIMESTAMP'] = pd.to_datetime(df['TIMESTAMP'])\n",
    "\n",
    "# Make TIMESTAMP the index of the dataframe as it will easy to group by date\n",
    "df.set_index('TIMESTAMP', inplace=True)"
   ]
  },
  {
   "cell_type": "code",
   "execution_count": null,
   "metadata": {},
   "outputs": [],
   "source": [
    "def plot_histogram(data, column, title, xlabel, ylabel):\n",
    "    \"\"\"\n",
    "    Plot a histogram of given columns of a dataframe\n",
    "    \"\"\"\n",
    "    # Plotting the distribution of the specified column\n",
    "    plt.figure(figsize=(10, 6))\n",
    "    sns.histplot(data[column], kde=True, color=wolt_colors[2], edgecolor='white', linewidth=1.5)\n",
    "    plt.title(title, fontsize=16, fontweight='bold')\n",
    "    plt.xlabel(xlabel)\n",
    "    plt.ylabel(ylabel)\n",
    "    plt.show()\n",
    "\n",
    "# Call the plot_histogram function\n",
    "plot_histogram(df, 'ACTUAL_DELIVERY_MINUTES', 'Distribution of Actual Delivery Minutes', 'Actual Delivery Minutes', 'Frequency')\n",
    "plot_histogram(df, 'ESTIMATED_DELIVERY_MINUTES', 'Distribution of Estimated Delivery Minutes', 'Estimated Delivery Minutes', 'Frequency')\n",
    "plot_histogram(df, 'ACTUAL_DELIVERY_MINUTES - ESTIMATED_DELIVERY_MINUTES', 'Distribution of Difference between Actual and Estimated Delivery Minutes', 'Difference between Actual and Estimated Delivery Minutes', 'Frequency')"
   ]
  },
  {
   "cell_type": "markdown",
   "metadata": {},
   "source": [
    "**🔍 Observations**: \n",
    "- The histogram shows a relatively normal distribution, with a peak around the mean value we observed earlier. So a Linear Regression model might be a good baseline to start with.\n",
    "- This suggests that most deliveries fall within a standard range of times, with fewer occurrences of extremely short or long delivery times."
   ]
  },
  {
   "cell_type": "code",
   "execution_count": null,
   "metadata": {},
   "outputs": [],
   "source": [
    "# Create a function to calculate the distance between two latitude and longitude points\n",
    "def calculate_distance(lat1: float, lon1: float, lat2: float, lon2: float) -> float:\n",
    "    \"\"\"\n",
    "    Calculate the distance between latitude and longitude points\n",
    "\n",
    "    Args:\n",
    "        lat1 (float): Latitude of first point\n",
    "        lon1 (float): Longitude of first point\n",
    "        lat2 (float): Latitude of second point\n",
    "        lon2 (float): Longitude of second point\n",
    "    \n",
    "    Returns:\n",
    "        float: Distance between two points in kilometers\n",
    "    \"\"\"\n",
    "    # return haversine((lat1, lon1), (lat2, lon2), unit=Unit.KILOMETERS)\n",
    "    return geodesic((lat1, lon1), (lat2, lon2)).km"
   ]
  },
  {
   "cell_type": "code",
   "execution_count": null,
   "metadata": {},
   "outputs": [],
   "source": [
    "# Extract the distance from latitude and longitude of user and venue\n",
    "df['DISTANCE'] = df.apply(lambda x: calculate_distance(x['USER_LAT'], x['USER_LONG'], x['VENUE_LAT'], x['VENUE_LONG']), axis=1)"
   ]
  },
  {
   "cell_type": "code",
   "execution_count": null,
   "metadata": {},
   "outputs": [],
   "source": [
    "# Check the distance column\n",
    "df['DISTANCE'].describe()"
   ]
  },
  {
   "cell_type": "code",
   "execution_count": null,
   "metadata": {},
   "outputs": [],
   "source": [
    "def plot_heatmap(matrix: np.ndarray, title: str) -> None:\n",
    "    \"\"\"\n",
    "    Plot a heatmap\n",
    "\n",
    "    Args:\n",
    "        matrix (numpy.ndarray): Matrix to plot\n",
    "        title (str): Title of the heatmap\n",
    "    \n",
    "    Returns:\n",
    "        None\n",
    "    \"\"\"\n",
    "    sns.heatmap(\n",
    "        data = matrix, \n",
    "        annot=True,\n",
    "        linewidth = 0.5, \n",
    "        cmap=sns.light_palette(wolt_colors[2], as_cmap=True),\n",
    "    )\n",
    "\n",
    "    plt.title(title, fontsize=18, fontweight='bold')\n",
    "    plt.show()"
   ]
  },
  {
   "cell_type": "code",
   "execution_count": null,
   "metadata": {},
   "outputs": [],
   "source": [
    "# Check the correlation between relevant columns\n",
    "relevant_columns = ['ITEM_COUNT', 'ESTIMATED_DELIVERY_MINUTES', 'ACTUAL_DELIVERY_MINUTES', \n",
    "                   'CLOUD_COVERAGE', 'TEMPERATURE', 'WIND_SPEED', 'PRECIPITATION', 'DISTANCE']\n",
    "plot_heatmap(df[relevant_columns].corr(), 'Correlation Heatmap')"
   ]
  },
  {
   "cell_type": "code",
   "execution_count": null,
   "metadata": {},
   "outputs": [],
   "source": [
    "# Creating new DataFrame with daily frequency and number of orders\n",
    "daily_df = df.resample('D').size()\n",
    "\n",
    "daily_df.head()"
   ]
  },
  {
   "cell_type": "code",
   "execution_count": null,
   "metadata": {},
   "outputs": [],
   "source": [
    "def plot_line(df: pd.DataFrame, title: str, xlabel, ylabel, size=None) -> None:\n",
    "    \"\"\"\n",
    "    Plot a line chart\n",
    "\n",
    "    Args:\n",
    "        df (pd.DataFrame): Dataframe to plot the line chart for\n",
    "        title (str): Title of the chart\n",
    "        xlabel (str): Label of the x-axis\n",
    "        ylabel (str): Label of the y-axis\n",
    "        size (tuple): Size of the chart\n",
    "\n",
    "    Returns:\n",
    "        None\n",
    "    \"\"\"\n",
    "    sns.lineplot(\n",
    "        data=daily_df, \n",
    "        color=wolt_colors[2]\n",
    "    )\n",
    "    plt.title(title, fontsize=18, fontweight='bold')\n",
    "    plt.xlabel(xlabel, fontsize=14)\n",
    "    plt.ylabel(ylabel, fontsize=14)\n",
    "    if size:\n",
    "        plt.figure(figsize=size)\n",
    "    plt.show()"
   ]
  },
  {
   "cell_type": "markdown",
   "metadata": {},
   "source": [
    "For the assignment, we will assume the following:\n",
    "- 😃 **On Time Deliveries**: Delivery Time Difference  <= 5 minutes.\n",
    "- 😐 **Moderate Late Deliveries**: 5 minutes < Delivery Time Difference  <= 15 minutes.\n",
    "- 😡 **Extremely Late Deliveries**: Delivery Time Difference  > 15 minutes."
   ]
  },
  {
   "cell_type": "code",
   "execution_count": null,
   "metadata": {},
   "outputs": [],
   "source": [
    "# For the assignment, we will assume the following:\n",
    "# - 😃 **On Time Deliveries**: Delivery Time Difference <= 5 minutes.\n",
    "# - 😐 **Moderately Late Deliveries**: 5 minutes < Delivery Time Difference  <= 15 minutes.\n",
    "# - 😡 **Extremely Late Deliveries**: Delivery Time Difference  > 15 minutes.\n",
    "\n",
    "# Define a function to categorize the deliveries\n",
    "def categorize_deliveries(row: pd.Series) -> str:\n",
    "    \"\"\"\n",
    "    Categorize the deliveries based on the estimated delivery time\n",
    "\n",
    "    Args:\n",
    "        row (pd.Series): Row of the dataframe\n",
    "    \n",
    "    Returns:\n",
    "        str: Category of the delivery\n",
    "    \"\"\"\n",
    "    if row['ACTUAL_DELIVERY_MINUTES - ESTIMATED_DELIVERY_MINUTES'] <= 5:\n",
    "        return \"ON_TIME\"\n",
    "    elif 5 < row['ACTUAL_DELIVERY_MINUTES - ESTIMATED_DELIVERY_MINUTES'] <= 15:\n",
    "        return \"MODERATELY_LATE\"\n",
    "    else:\n",
    "        return \"EXTREMELY_LATE\"\n",
    "    \n",
    "# Create a new column to categorize the deliveries\n",
    "df['DELIVERY_TIME_CATEGORY'] = df.apply(categorize_deliveries, axis=1)"
   ]
  },
  {
   "cell_type": "code",
   "execution_count": null,
   "metadata": {},
   "outputs": [],
   "source": [
    "df['DELIVERY_TIME_CATEGORY'].value_counts()"
   ]
  },
  {
   "cell_type": "markdown",
   "metadata": {},
   "source": [
    "## **4. Model Selection**\n",
    "\n",
    "Given the nature of the data, timeseries forecasting models are a good choice. The data is a time series of item demand, and we want to predict the demand for the next day.\n",
    "\n",
    "> ### **Following models are considered for the approach:**\n",
    "\n",
    "- **📉 SARIMAX (Baseline):** It is a good baseline model for our data as it has seasionality and external factors. It is also relatively easy to interpret and explain the results than blackbox models.\n",
    "\n",
    "- 🚀 **XGBoost:** XGBoost is a powerful ensemble machine learning model that can handle both regression and timeseries forecasting tasks. It can capture complex patterns and dependencies in the data. \n",
    "\n",
    "- **🧠 LSTM:** LSTM is a good choice for timeseries forecasting, and can be used to capture the non-linearities in the data. \n"
   ]
  },
  {
   "cell_type": "markdown",
   "metadata": {},
   "source": [
    "## **5. Feature Engineering**\n",
    "\n",
    "- hourly, daily and weekly decomposition\n",
    "- calculate distance between venue and delivery location"
   ]
  },
  {
   "cell_type": "markdown",
   "metadata": {},
   "source": [
    "## **6. Modeling**"
   ]
  },
  {
   "cell_type": "markdown",
   "metadata": {},
   "source": [
    "### **6.1 SARIMAX (Baseline)**"
   ]
  },
  {
   "cell_type": "markdown",
   "metadata": {},
   "source": [
    "### **6.2 XGBoost**"
   ]
  },
  {
   "cell_type": "markdown",
   "metadata": {},
   "source": [
    "### **6.3 LSTM**"
   ]
  },
  {
   "cell_type": "markdown",
   "metadata": {},
   "source": [
    "## **7. Evaluation**"
   ]
  },
  {
   "cell_type": "markdown",
   "metadata": {},
   "source": [
    "## **8. Further Development**"
   ]
  }
 ],
 "metadata": {
  "kernelspec": {
   "display_name": "base",
   "language": "python",
   "name": "python3"
  },
  "language_info": {
   "codemirror_mode": {
    "name": "ipython",
    "version": 3
   },
   "file_extension": ".py",
   "mimetype": "text/x-python",
   "name": "python",
   "nbconvert_exporter": "python",
   "pygments_lexer": "ipython3",
   "version": "3.11.4"
  }
 },
 "nbformat": 4,
 "nbformat_minor": 2
}
